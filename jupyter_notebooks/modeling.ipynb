{
 "cells": [
  {
   "cell_type": "code",
   "execution_count": null,
   "metadata": {},
   "outputs": [],
   "source": [
    "import numpy as np \n",
    "import pandas as pd \n",
    "import sklearn\n",
    "from sklearn.model_selection import *"
   ]
  },
  {
   "cell_type": "code",
   "execution_count": null,
   "metadata": {},
   "outputs": [],
   "source": [
    "usa_2018_df = pd.read_csv('usa_2018_cars')"
   ]
  },
  {
   "cell_type": "code",
   "execution_count": null,
   "metadata": {},
   "outputs": [],
   "source": [
    "usa_2018_df.drop('Unnamed: 0',axis=1,inplace=True)"
   ]
  },
  {
   "cell_type": "code",
   "execution_count": null,
   "metadata": {},
   "outputs": [],
   "source": [
    "usa_car_categorical_df = usa_2018_df[['model_id','model_make_display','model_engine_compression','model_make_id','model_name','model_trim']]"
   ]
  },
  {
   "cell_type": "code",
   "execution_count": null,
   "metadata": {},
   "outputs": [],
   "source": [
    "usa_car_numerical_df = usa_2018_df.drop(['model_make_display','model_engine_compression','model_make_id','model_name','model_trim'],axis=1)"
   ]
  },
  {
   "cell_type": "code",
   "execution_count": null,
   "metadata": {},
   "outputs": [],
   "source": [
    "usa_car_numerical_df.info()"
   ]
  },
  {
   "cell_type": "code",
   "execution_count": null,
   "metadata": {},
   "outputs": [],
   "source": [
    "import pandas_profiling"
   ]
  },
  {
   "cell_type": "code",
   "execution_count": null,
   "metadata": {},
   "outputs": [],
   "source": [
    "pandas_profiling.ProfileReport(usa_car_numerical_df)"
   ]
  },
  {
   "cell_type": "code",
   "execution_count": null,
   "metadata": {},
   "outputs": [],
   "source": [
    "usa_car_numerical_df.drop(['model_lkm_hwy','model_lkm_city'],axis=1,inplace=True)"
   ]
  },
  {
   "cell_type": "code",
   "execution_count": null,
   "metadata": {},
   "outputs": [],
   "source": [
    "\n",
    "# for an approximate result, divide the speed value by 1.609\n",
    "# mm to in divide the length value by 25.4\n",
    "# kg to lbs for an approximate result, multiply the mass value by 2.205\n",
    "# l to gal for an approximate result, divide the volume value by 3.785"
   ]
  },
  {
   "cell_type": "code",
   "execution_count": null,
   "metadata": {},
   "outputs": [],
   "source": [
    "def lkm_to_mpg(lkm):\n",
    "    return round((3.785411784*(lkm/1.609344)),1)\n",
    "usa_car_numerical_df['average_mpg'] = usa_car_numerical_df['model_lkm_mixed']"
   ]
  },
  {
   "cell_type": "code",
   "execution_count": null,
   "metadata": {},
   "outputs": [],
   "source": [
    "usa_car_numerical_df['model_horsepower'] = usa_car_numerical_df['model_engine_power_ps']"
   ]
  },
  {
   "cell_type": "code",
   "execution_count": null,
   "metadata": {},
   "outputs": [],
   "source": [
    "def mm_to_inches(mm):\n",
    "    return round(mm/25.4,1)\n",
    "# usa_car_numerical_df['model_lenght_in'] = usa_car_numerical_df['model_length_mm'].apply(mm_to_inches)\n",
    "# # usa_car_numerical_df['model_width_in'] = usa_car_numerical_df['model_width_mm'].apply(mm_to_inches)\n",
    "# usa_car_numerical_df['model_height_in'] = usa_car_numerical_df['model_height_mm'].apply(mm_to_inches)\n",
    "# usa_car_numerical_df['model_wheelbase_in'] = usa_car_numerical_df['model_wheelbase_mm'].apply(mm_to_inches)\n",
    "# usa_car_numerical_df['engine_stroke_in'] = usa_car_numerical_df['model_engine_stroke_mm'].apply(mm_to_inches)\n",
    "# usa_car_numerical_df['engine_bore_in'] = usa_car_numerical_df['model_engine_bore_mm'].apply(mm_to_inches)"
   ]
  },
  {
   "cell_type": "code",
   "execution_count": null,
   "metadata": {},
   "outputs": [],
   "source": [
    "def l_to_gal(l):\n",
    "    return round(l/3.785,1)\n",
    "usa_car_numerical_df['fuel_cap_galons'] = usa_car_numerical_df['model_fuel_cap_l']"
   ]
  },
  {
   "cell_type": "code",
   "execution_count": null,
   "metadata": {},
   "outputs": [],
   "source": [
    "def nm_to_ftlbs(nm):\n",
    "    return round(nm*0.73756,1)\n",
    "usa_car_numerical_df['engine_ft_lbs_torque'] = usa_car_numerical_df['model_engine_torque_nm'].apply(nm_to_ftlbs)"
   ]
  },
  {
   "cell_type": "code",
   "execution_count": null,
   "metadata": {},
   "outputs": [],
   "source": [
    "usa_car_numerical_df.drop(['model_lkm_mixed','model_engine_power_ps',\n",
    "                'model_fuel_cap_l',]\n",
    "                ,axis=1,inplace=True)"
   ]
  },
  {
   "cell_type": "code",
   "execution_count": null,
   "metadata": {},
   "outputs": [],
   "source": [
    "usa_car_numerical_df.drop('model_engine_cc',axis=1,inplace=True)"
   ]
  },
  {
   "cell_type": "code",
   "execution_count": null,
   "metadata": {},
   "outputs": [],
   "source": [
    "usa_car_numerical_df.drop('model_engine_torque_nm',axis=1,inplace=True)"
   ]
  },
  {
   "cell_type": "code",
   "execution_count": null,
   "metadata": {},
   "outputs": [],
   "source": [
    "usa_car_numerical_df.drop('model_engine_position',axis=1,inplace=True)\n",
    "usa_car_numerical_df.drop('model_sold_in_us',axis=1,inplace=True)"
   ]
  },
  {
   "cell_type": "code",
   "execution_count": null,
   "metadata": {},
   "outputs": [],
   "source": [
    "usa_car_numerical_df.set_index('model_id',inplace=True)"
   ]
  },
  {
   "cell_type": "code",
   "execution_count": null,
   "metadata": {},
   "outputs": [],
   "source": [
    "usa_car_numerical_df.columns"
   ]
  },
  {
   "cell_type": "code",
   "execution_count": null,
   "metadata": {
    "scrolled": true
   },
   "outputs": [],
   "source": [
    "pandas_profiling.ProfileReport(usa_car_numerical_df)"
   ]
  },
  {
   "cell_type": "code",
   "execution_count": null,
   "metadata": {},
   "outputs": [],
   "source": [
    "usa_car_numerical_df = pd.get_dummies(usa_car_numerical_df,columns=['model_body','model_drive',\n",
    "                                                                    'model_engine_type','model_engine_fuel',\n",
    "                                                                    'model_transmission_type'],drop_first=True)"
   ]
  },
  {
   "cell_type": "code",
   "execution_count": null,
   "metadata": {
    "scrolled": true
   },
   "outputs": [],
   "source": [
    "usa_car_numerical_df.average_mpg.argmax()"
   ]
  },
  {
   "cell_type": "code",
   "execution_count": null,
   "metadata": {},
   "outputs": [],
   "source": [
    "usa_car_numerical_df.average_mpg.mean()"
   ]
  },
  {
   "cell_type": "code",
   "execution_count": null,
   "metadata": {},
   "outputs": [],
   "source": [
    "usa_car_categorical_df.set_index('model_id',inplace=True)"
   ]
  },
  {
   "cell_type": "code",
   "execution_count": null,
   "metadata": {},
   "outputs": [],
   "source": [
    "usa_car_categorical_df.query('73253')"
   ]
  },
  {
   "cell_type": "code",
   "execution_count": null,
   "metadata": {},
   "outputs": [],
   "source": [
    "from sklearn.preprocessing import StandardScaler\n",
    "ss = StandardScaler()\n",
    "ss = ss.fit_transform(usa_car_numerical_df)"
   ]
  },
  {
   "cell_type": "code",
   "execution_count": null,
   "metadata": {
    "scrolled": true
   },
   "outputs": [],
   "source": [
    "from sklearn.cluster import KMeans\n",
    "kmeans = KMeans(n_clusters=38, init='k-means++', n_init=10, max_iter=300, \n",
    "                tol=0.0001, precompute_distances=True,verbose=3, random_state=42, copy_x=True,\n",
    "                n_jobs=None, algorithm='auto').fit(ss)"
   ]
  },
  {
   "cell_type": "code",
   "execution_count": null,
   "metadata": {},
   "outputs": [],
   "source": [
    "args = np.argwhere(kmeans.labels_ == 36).shape"
   ]
  },
  {
   "cell_type": "code",
   "execution_count": null,
   "metadata": {},
   "outputs": [],
   "source": [
    "args[0]"
   ]
  },
  {
   "cell_type": "code",
   "execution_count": null,
   "metadata": {},
   "outputs": [],
   "source": [
    "def get_model_id_name(cluster):\n",
    "    for num in cluster:\n",
    "        x_shape = np.argwhere(kmeans.labels_ == num).shape[0]\n",
    "        args = np.argwhere(kmeans.labels_ == num).reshape(x_shape,)\n",
    "        print(just_model_id_name.iloc[args])\n",
    "        \n",
    "get_model_id_name([33,6])"
   ]
  },
  {
   "cell_type": "code",
   "execution_count": null,
   "metadata": {},
   "outputs": [],
   "source": [
    "just_model_id_name = no_model_trim.drop(['model_make_display','model_engine_compression'],axis=1)"
   ]
  },
  {
   "cell_type": "code",
   "execution_count": null,
   "metadata": {},
   "outputs": [],
   "source": [
    "no_model_trim.iloc[args]"
   ]
  },
  {
   "cell_type": "code",
   "execution_count": null,
   "metadata": {},
   "outputs": [],
   "source": [
    "from sklearn.metrics.pairwise import cosine_similarity\n",
    "from scipy import sparse\n",
    "\n",
    "car_sparse = sparse.csr_matrix(kmeans.cluster_centers_)\n",
    "\n",
    "similarities = cosine_similarity(car_sparse)\n",
    "print('pairwise dense output:\\n {}\\n'.format(similarities))\n",
    "\n",
    "#also can output sparse matrices\n",
    "similarities_sparse = cosine_similarity(car_sparse,dense_output=False)\n",
    "print('pairwise sparse output:\\n {}\\n'.format(similarities_sparse))"
   ]
  },
  {
   "cell_type": "code",
   "execution_count": null,
   "metadata": {},
   "outputs": [],
   "source": [
    "# import csv\n",
    "# pd.DataFrame(similarities).to_csv('car_cosine_vectors.tsv',sep='\\t', quoting=csv.QUOTE_NONE)"
   ]
  },
  {
   "cell_type": "code",
   "execution_count": null,
   "metadata": {},
   "outputs": [],
   "source": [
    "# import csv\n",
    "# pd.DataFrame(ss).to_csv('all_cosine_vectors.tsv',sep='\\t', quoting=csv.QUOTE_NONE)"
   ]
  },
  {
   "cell_type": "code",
   "execution_count": null,
   "metadata": {},
   "outputs": [],
   "source": [
    "no_model_trim = usa_car_categorical_df.drop('model_trim',axis=1)"
   ]
  },
  {
   "cell_type": "code",
   "execution_count": null,
   "metadata": {},
   "outputs": [],
   "source": [
    "from sklearn.decomposition import PCA\n",
    "pca = PCA(n_components=20)\n",
    "pca_df = pca.fit_transform(ss)\n"
   ]
  },
  {
   "cell_type": "code",
   "execution_count": null,
   "metadata": {},
   "outputs": [],
   "source": [
    "def scree_plot(ax, pca, n_components_to_plot=20, title=None):\n",
    "    \"\"\"Make a scree plot showing the variance explained (i.e. variance\n",
    "    of the projections) for the principal components in a fit sklearn\n",
    "    PCA object.\n",
    "    \n",
    "    Parameters\n",
    "    ----------\n",
    "    ax: matplotlib.axis object\n",
    "      The axis to make the scree plot on.\n",
    "      \n",
    "    pca: sklearn.decomposition.PCA object.\n",
    "      A fit PCA object.\n",
    "      \n",
    "    n_components_to_plot: int\n",
    "      The number of principal components to display in the scree plot.\n",
    "      \n",
    "    title: str\n",
    "      A title for the scree plot.\n",
    "    \"\"\"\n",
    "    num_components = pca.n_components_\n",
    "    ind = np.arange(num_components)\n",
    "    vals = pca.explained_variance_ratio_\n",
    "    ax.plot(ind, vals, color='blue')\n",
    "    ax.scatter(ind, vals, color='blue', s=50)\n",
    "\n",
    "    for i in range(num_components):\n",
    "        ax.annotate(r\"{:2.2f}%\".format(vals[i]), \n",
    "        (ind[i]+0.2, vals[i]+0.005), \n",
    "        va=\"bottom\", \n",
    "        ha=\"center\", \n",
    "        fontsize=12)\n",
    "\n",
    "    ax.set_xticklabels(ind, fontsize=12)\n",
    "    ax.set_ylim(0, max(vals) + 0.05)\n",
    "    ax.set_xlim(0 - 0.45, n_components_to_plot + 0.45)\n",
    "    ax.set_xlabel(\"Principal Component\", fontsize=12)\n",
    "    ax.set_ylabel(\"Variance Explained (%)\", fontsize=12)\n",
    "    if title is not None:\n",
    "        ax.set_title(title, fontsize=16)"
   ]
  },
  {
   "cell_type": "code",
   "execution_count": null,
   "metadata": {},
   "outputs": [],
   "source": [
    "import matplotlib.pyplot as plt\n",
    "plt.style.use('ggplot')\n",
    "fig, ax = plt.subplots(figsize=(12,6))\n",
    "scree_plot(ax, pca, n_components_to_plot=20, title='Car Matching')"
   ]
  },
  {
   "cell_type": "code",
   "execution_count": null,
   "metadata": {},
   "outputs": [],
   "source": [
    "def get_car_back(num):\n",
    "    index = usa_car_categorical_df.iloc[num]\n",
    "    return index\n",
    "get_car_back(1906)"
   ]
  },
  {
   "cell_type": "code",
   "execution_count": null,
   "metadata": {},
   "outputs": [],
   "source": [
    "usa_car_categorical_df.query('76481')"
   ]
  },
  {
   "cell_type": "code",
   "execution_count": null,
   "metadata": {},
   "outputs": [],
   "source": [
    "kmeans.fit_predict"
   ]
  },
  {
   "cell_type": "code",
   "execution_count": null,
   "metadata": {},
   "outputs": [],
   "source": [
    "from sklearn.preprocessing import RobustScaler\n",
    "robsca = RobustScaler()\n",
    "robsca = robsca.fit_transform(usa_car_numerical_df)\n",
    "model = KMeans(n_clusters=38,init='k-means++', max_iter=100, n_init=1,verbose=2)\n",
    "model.fit(robsca)"
   ]
  },
  {
   "cell_type": "code",
   "execution_count": null,
   "metadata": {},
   "outputs": [],
   "source": [
    "args = np.argwhere(kmeans.labels_ == 37).reshape(94,)"
   ]
  },
  {
   "cell_type": "code",
   "execution_count": null,
   "metadata": {},
   "outputs": [],
   "source": [
    "no_model_trim.iloc[args]"
   ]
  },
  {
   "cell_type": "code",
   "execution_count": null,
   "metadata": {},
   "outputs": [],
   "source": [
    "np.unique(no_model_trim.iloc[args])"
   ]
  },
  {
   "cell_type": "code",
   "execution_count": null,
   "metadata": {},
   "outputs": [],
   "source": []
  },
  {
   "cell_type": "code",
   "execution_count": null,
   "metadata": {},
   "outputs": [],
   "source": [
    "order_centroids = model.cluster_centers_.argsort()[:, ::-1]\n",
    "print(order_centroids)"
   ]
  },
  {
   "cell_type": "code",
   "execution_count": null,
   "metadata": {},
   "outputs": [],
   "source": [
    "print(model.cluster_centers_)"
   ]
  },
  {
   "cell_type": "code",
   "execution_count": null,
   "metadata": {},
   "outputs": [],
   "source": [
    "from sklearn.metrics import silhouette_score\n",
    "from sklearn.preprocessing import StandardScaler\n",
    "import matplotlib.pyplot as py\n",
    "%matplotlib inline\n",
    "import tqdm "
   ]
  },
  {
   "cell_type": "code",
   "execution_count": null,
   "metadata": {},
   "outputs": [],
   "source": [
    "silhouette_scores = []\n",
    "for n in range(2,100):\n",
    "    n_model = KMeans(n_clusters=n)\n",
    "    n_model.fit(ss)\n",
    "    silhouette_scores.append(silhouette_score(ss, n_model.labels_))"
   ]
  },
  {
   "cell_type": "code",
   "execution_count": null,
   "metadata": {},
   "outputs": [],
   "source": [
    "py.plot(silhouette_scores)"
   ]
  },
  {
   "cell_type": "code",
   "execution_count": null,
   "metadata": {},
   "outputs": [],
   "source": [
    "from collections import Counter "
   ]
  },
  {
   "cell_type": "code",
   "execution_count": null,
   "metadata": {},
   "outputs": [],
   "source": [
    "# assigned_cluster = kmeans.transform(usa_car_numerical_df).argmin(axis=1)\n",
    "# for i in range(kmeans.n_clusters):\n",
    "#     cluster = np.arange(0, usa_car_numerical_df.shape[0])[assigned_cluster==i]\n",
    "#     topics = usa_car_categorical_df.iloc[cluster]\n",
    "#     most_common = Counter(topics).most_common()\n",
    "#     print(\"Cluster %d: %s\" % (i, most_common[0][0]))\n",
    "#     if len(most_common) > 1:\n",
    "#         print(\" %s\" % (most_common[1][0]))"
   ]
  },
  {
   "cell_type": "code",
   "execution_count": null,
   "metadata": {},
   "outputs": [],
   "source": [
    "import umap.umap_ \n",
    "import seaborn as sns \n",
    "sns.set(style='white', rc={'figure.figsize':(10,8)})"
   ]
  },
  {
   "cell_type": "code",
   "execution_count": null,
   "metadata": {},
   "outputs": [],
   "source": [
    "standard_embedding = umap.umap_.UMAP(random_state=42).fit_transform(ss)\n",
    "plt.scatter(standard_embedding[:, 0], standard_embedding[:, 1], s=0.1, cmap='Spectral');"
   ]
  },
  {
   "cell_type": "code",
   "execution_count": null,
   "metadata": {},
   "outputs": [],
   "source": [
    "kmeans_labels = KMeans(n_clusters=37).fit_predict(usa_car_numerical_df)\n",
    "plt.scatter(standard_embedding[:, 0], standard_embedding[:, 1], c=kmeans_labels, s=0.1, cmap='Spectral');"
   ]
  },
  {
   "cell_type": "code",
   "execution_count": null,
   "metadata": {},
   "outputs": [],
   "source": [
    "import hdbscan"
   ]
  },
  {
   "cell_type": "code",
   "execution_count": null,
   "metadata": {},
   "outputs": [],
   "source": [
    "clusterer = hdbscan.HDBSCAN(min_cluster_size=10, gen_min_span_tree=True)\n",
    "clusterer.fit(ss)"
   ]
  },
  {
   "cell_type": "code",
   "execution_count": null,
   "metadata": {},
   "outputs": [],
   "source": [
    "# clusterer.minimum_spanning_tree_.plot(edge_cmap='viridis',\n",
    "#                                       edge_alpha=0.6,\n",
    "#                                       node_size=80,\n",
    "#                                       edge_linewidth=2)"
   ]
  },
  {
   "cell_type": "code",
   "execution_count": null,
   "metadata": {},
   "outputs": [],
   "source": [
    "clusterer.single_linkage_tree_.plot(cmap='viridis', colorbar=True)"
   ]
  },
  {
   "cell_type": "code",
   "execution_count": null,
   "metadata": {},
   "outputs": [],
   "source": [
    "clusterer.condensed_tree_.plot()"
   ]
  }
 ],
 "metadata": {
  "kernelspec": {
   "display_name": "Python 3",
   "language": "python",
   "name": "python3"
  },
  "language_info": {
   "codemirror_mode": {
    "name": "ipython",
    "version": 3
   },
   "file_extension": ".py",
   "mimetype": "text/x-python",
   "name": "python",
   "nbconvert_exporter": "python",
   "pygments_lexer": "ipython3",
   "version": "3.7.3"
  }
 },
 "nbformat": 4,
 "nbformat_minor": 2
}
