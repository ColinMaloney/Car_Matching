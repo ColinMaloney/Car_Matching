{
 "cells": [
  {
   "cell_type": "code",
   "execution_count": 1,
   "metadata": {},
   "outputs": [],
   "source": [
    "import numpy as np \n",
    "import pandas as pd \n",
    "import sklearn\n",
    "from sklearn.model_selection import *"
   ]
  },
  {
   "cell_type": "code",
   "execution_count": 3,
   "metadata": {},
   "outputs": [],
   "source": [
    "usa_2018_df = pd.read_csv('usa_2018_cars')"
   ]
  },
  {
   "cell_type": "code",
   "execution_count": 4,
   "metadata": {},
   "outputs": [
    {
     "data": {
      "text/plain": [
       "Index(['Unnamed: 0', 'model_id', 'model_make_id', 'model_name', 'model_trim',\n",
       "       'model_year', 'model_body', 'model_engine_position', 'model_engine_cc',\n",
       "       'model_engine_cyl', 'model_engine_type', 'model_engine_valves_per_cyl',\n",
       "       'model_engine_power_ps', 'model_engine_torque_nm',\n",
       "       'model_engine_compression', 'model_engine_fuel', 'model_drive',\n",
       "       'model_transmission_type', 'model_doors', 'model_weight_kg',\n",
       "       'model_lkm_hwy', 'model_lkm_mixed', 'model_lkm_city',\n",
       "       'model_fuel_cap_l', 'model_sold_in_us', 'model_make_display'],\n",
       "      dtype='object')"
      ]
     },
     "execution_count": 4,
     "metadata": {},
     "output_type": "execute_result"
    }
   ],
   "source": [
    "usa_2018_df.columns"
   ]
  },
  {
   "cell_type": "code",
   "execution_count": null,
   "metadata": {},
   "outputs": [],
   "source": [
    "car_categorical_df = car_df[['model_id','model_make_display','model_engine_compression','model_make_id','model_name','model_trim']]"
   ]
  }
 ],
 "metadata": {
  "kernelspec": {
   "display_name": "Python 3",
   "language": "python",
   "name": "python3"
  },
  "language_info": {
   "codemirror_mode": {
    "name": "ipython",
    "version": 3
   },
   "file_extension": ".py",
   "mimetype": "text/x-python",
   "name": "python",
   "nbconvert_exporter": "python",
   "pygments_lexer": "ipython3",
   "version": "3.7.3"
  }
 },
 "nbformat": 4,
 "nbformat_minor": 2
}
